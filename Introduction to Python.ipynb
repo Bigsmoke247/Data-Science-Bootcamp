{
 "cells": [
  {
   "cell_type": "code",
   "execution_count": 3,
   "id": "cc9311a0",
   "metadata": {},
   "outputs": [
    {
     "name": "stdout",
     "output_type": "stream",
     "text": [
      "hello world!!!\n"
     ]
    }
   ],
   "source": [
    "print (\"hello world!!!\")"
   ]
  },
  {
   "cell_type": "markdown",
   "id": "fce32655",
   "metadata": {},
   "source": [
    "# introduction to python\n",
    "This is the beginning  of our python lecture:\n",
    "In this class we will be exploring the use of python for data analytics and data science"
   ]
  },
  {
   "cell_type": "code",
   "execution_count": 8,
   "id": "60e5443a",
   "metadata": {},
   "outputs": [],
   "source": [
    "# variables data types\n",
    "age = 25\n"
   ]
  },
  {
   "cell_type": "code",
   "execution_count": 9,
   "id": "d3d4128a",
   "metadata": {},
   "outputs": [
    {
     "data": {
      "text/plain": [
       "int"
      ]
     },
     "execution_count": 9,
     "metadata": {},
     "output_type": "execute_result"
    }
   ],
   "source": [
    "type(age)"
   ]
  },
  {
   "cell_type": "code",
   "execution_count": 5,
   "id": "e96144c0",
   "metadata": {},
   "outputs": [],
   "source": [
    "height = 5.1"
   ]
  },
  {
   "cell_type": "code",
   "execution_count": 10,
   "id": "6e5d53b2",
   "metadata": {},
   "outputs": [
    {
     "data": {
      "text/plain": [
       "float"
      ]
     },
     "execution_count": 10,
     "metadata": {},
     "output_type": "execute_result"
    }
   ],
   "source": [
    "type(height)"
   ]
  },
  {
   "cell_type": "code",
   "execution_count": 6,
   "id": "83eb5602",
   "metadata": {},
   "outputs": [],
   "source": [
    "name = \"alice\""
   ]
  },
  {
   "cell_type": "code",
   "execution_count": 7,
   "id": "2479a868",
   "metadata": {},
   "outputs": [],
   "source": [
    "is_student = True"
   ]
  },
  {
   "cell_type": "code",
   "execution_count": 11,
   "id": "6336dab8",
   "metadata": {},
   "outputs": [],
   "source": [
    "# doing basic maths in python"
   ]
  },
  {
   "cell_type": "code",
   "execution_count": 12,
   "id": "7151bfaa",
   "metadata": {},
   "outputs": [
    {
     "data": {
      "text/plain": [
       "3.0"
      ]
     },
     "execution_count": 12,
     "metadata": {},
     "output_type": "execute_result"
    }
   ],
   "source": [
    "9/3 #Divistion"
   ]
  },
  {
   "cell_type": "code",
   "execution_count": 13,
   "id": "64e998e4",
   "metadata": {},
   "outputs": [
    {
     "data": {
      "text/plain": [
       "-1"
      ]
     },
     "execution_count": 13,
     "metadata": {},
     "output_type": "execute_result"
    }
   ],
   "source": [
    "6-7 #substraction"
   ]
  },
  {
   "cell_type": "code",
   "execution_count": 14,
   "id": "56f3bd73",
   "metadata": {},
   "outputs": [
    {
     "data": {
      "text/plain": [
       "72"
      ]
     },
     "execution_count": 14,
     "metadata": {},
     "output_type": "execute_result"
    }
   ],
   "source": [
    "8*9 #multiplication"
   ]
  },
  {
   "cell_type": "code",
   "execution_count": 16,
   "id": "2b1b3745",
   "metadata": {},
   "outputs": [
    {
     "data": {
      "text/plain": [
       "249.75"
      ]
     },
     "execution_count": 16,
     "metadata": {},
     "output_type": "execute_result"
    }
   ],
   "source": [
    "round(999/4, 2)"
   ]
  },
  {
   "cell_type": "code",
   "execution_count": 18,
   "id": "72c42a18",
   "metadata": {},
   "outputs": [
    {
     "data": {
      "text/plain": [
       "1"
      ]
     },
     "execution_count": 18,
     "metadata": {},
     "output_type": "execute_result"
    }
   ],
   "source": [
    "# moduluss sign(%) it returns the remainder of a division operation\n",
    "5%2"
   ]
  },
  {
   "cell_type": "code",
   "execution_count": 26,
   "id": "aa4a793d",
   "metadata": {},
   "outputs": [
    {
     "name": "stdout",
     "output_type": "stream",
     "text": [
      "2\n",
      "4\n",
      "6\n",
      "8\n",
      "10\n"
     ]
    }
   ],
   "source": [
    "#looking for odd ans even numbers\n",
    "numbers = [1,2,3,4,5,6,7,8,9,10]\n",
    "\n",
    "for number in numbers:\n",
    "    if number % 2 == 0:\n",
    "        print(number)\n"
   ]
  },
  {
   "cell_type": "code",
   "execution_count": 28,
   "id": "e2e084c7",
   "metadata": {},
   "outputs": [
    {
     "data": {
      "text/plain": [
       "4"
      ]
     },
     "execution_count": 28,
     "metadata": {},
     "output_type": "execute_result"
    }
   ],
   "source": [
    "# floor division -returns the whole of division\n",
    "9//2"
   ]
  },
  {
   "cell_type": "code",
   "execution_count": 29,
   "id": "1eab1d49",
   "metadata": {},
   "outputs": [],
   "source": [
    "# comparison operator\n",
    "olatunde = \"dark\"\n",
    "dimeji = \"tall\"\n"
   ]
  },
  {
   "cell_type": "code",
   "execution_count": 30,
   "id": "c5afcc61",
   "metadata": {},
   "outputs": [
    {
     "data": {
      "text/plain": [
       "'dark'"
      ]
     },
     "execution_count": 30,
     "metadata": {},
     "output_type": "execute_result"
    }
   ],
   "source": [
    "olatunde"
   ]
  },
  {
   "cell_type": "code",
   "execution_count": 1,
   "id": "ad85d7cd",
   "metadata": {},
   "outputs": [],
   "source": [
    "a = 30\n",
    "b = 40"
   ]
  },
  {
   "cell_type": "code",
   "execution_count": 2,
   "id": "639b0471",
   "metadata": {},
   "outputs": [
    {
     "data": {
      "text/plain": [
       "False"
      ]
     },
     "execution_count": 2,
     "metadata": {},
     "output_type": "execute_result"
    }
   ],
   "source": [
    "a > b"
   ]
  },
  {
   "cell_type": "code",
   "execution_count": 3,
   "id": "6459880d",
   "metadata": {},
   "outputs": [
    {
     "data": {
      "text/plain": [
       "False"
      ]
     },
     "execution_count": 3,
     "metadata": {},
     "output_type": "execute_result"
    }
   ],
   "source": [
    "b < a"
   ]
  },
  {
   "cell_type": "code",
   "execution_count": 4,
   "id": "624a6af3",
   "metadata": {},
   "outputs": [
    {
     "data": {
      "text/plain": [
       "True"
      ]
     },
     "execution_count": 4,
     "metadata": {},
     "output_type": "execute_result"
    }
   ],
   "source": [
    "b > a"
   ]
  },
  {
   "cell_type": "markdown",
   "id": "0b9aeff7",
   "metadata": {},
   "source": [
    "# Control Flow\n",
    "conditional statment (if, elif, else). these statment helps us make the python behave intelligently\n"
   ]
  },
  {
   "cell_type": "code",
   "execution_count": 8,
   "id": "77f90c2b",
   "metadata": {},
   "outputs": [
    {
     "name": "stdout",
     "output_type": "stream",
     "text": [
      "you are not an adult\n"
     ]
    }
   ],
   "source": [
    "age = 17\n",
    "if age >= 18:\n",
    "    print(\"you are an adult\")\n",
    "# using the esle if statement\n",
    "    else:\n",
    "    print(\"you are not an adult\")"
   ]
  },
  {
   "cell_type": "code",
   "execution_count": 12,
   "id": "98d9cea7",
   "metadata": {},
   "outputs": [
    {
     "ename": "SyntaxError",
     "evalue": "Missing parentheses in call to 'print'. Did you mean print(...)? (2340643874.py, line 10)",
     "output_type": "error",
     "traceback": [
      "\u001b[1;36m  Cell \u001b[1;32mIn[12], line 10\u001b[1;36m\u001b[0m\n\u001b[1;33m    print round(999/ 2)\u001b[0m\n\u001b[1;37m    ^\u001b[0m\n\u001b[1;31mSyntaxError\u001b[0m\u001b[1;31m:\u001b[0m Missing parentheses in call to 'print'. Did you mean print(...)?\n"
     ]
    }
   ],
   "source": [
    "#built in function \n",
    "\n",
    "#print - This is how Python output result\n",
    "print(\"we are learning Python together\")\n",
    "\n",
    "#len - Check the Lenght of an object\n",
    "Students = \"Chaviva\"\n",
    "\n",
    "#round- Rounds to a particular significant value\n",
    "print round(999/ 2)\n",
    "\n",
    "\n",
    "#type - checks the data type of an object\n",
    "type(Students)\n",
    "\n",
    "#input - get inputs from user\n",
    "name = input(\"what is your name: \")\n",
    "print(\"your name is: \", name)\n",
    "\n"
   ]
  },
  {
   "cell_type": "code",
   "execution_count": 17,
   "id": "eb0d3488",
   "metadata": {},
   "outputs": [
    {
     "name": "stdout",
     "output_type": "stream",
     "text": [
      "C + h + a + v + i + v + a + "
     ]
    }
   ],
   "source": [
    "# for loop\n",
    "# This loop helps to iterate through (go through) sequence\n",
    "for character in Students:\n",
    "    print (character, end= \" + \")"
   ]
  },
  {
   "cell_type": "code",
   "execution_count": 28,
   "id": "69adcb96",
   "metadata": {},
   "outputs": [
    {
     "name": "stdout",
     "output_type": "stream",
     "text": [
      "h\n",
      "a\n",
      "v\n",
      "i\n",
      "v\n",
      "a\n"
     ]
    }
   ],
   "source": [
    "# for loop\n",
    "# This loop helps to iterate through (go through) sequence\n",
    "for character in Students:\n",
    "    if character == \"C\":\n",
    "           continue\n",
    "    print (character)       "
   ]
  },
  {
   "cell_type": "code",
   "execution_count": 29,
   "id": "dc371720",
   "metadata": {},
   "outputs": [
    {
     "name": "stdout",
     "output_type": "stream",
     "text": [
      "0\n",
      "2\n",
      "4\n",
      "6\n",
      "8\n",
      "10\n",
      "12\n",
      "14\n",
      "16\n",
      "18\n",
      "20\n",
      "22\n",
      "24\n",
      "26\n",
      "28\n",
      "30\n",
      "32\n",
      "34\n",
      "36\n",
      "38\n",
      "40\n",
      "42\n",
      "44\n",
      "46\n",
      "48\n",
      "50\n",
      "52\n",
      "54\n",
      "56\n",
      "58\n",
      "60\n",
      "62\n",
      "64\n",
      "66\n",
      "68\n",
      "70\n",
      "72\n",
      "74\n",
      "76\n",
      "78\n",
      "80\n",
      "82\n",
      "84\n",
      "86\n",
      "88\n",
      "90\n",
      "92\n",
      "94\n",
      "96\n",
      "98\n"
     ]
    }
   ],
   "source": [
    "# declaring a variable to sum my total\n",
    "total = 0\n",
    "for i in range (100):\n",
    "    # checking if the numbers are even numbers\n",
    "    if i % 2 == 0:\n",
    "        print(i)\n",
    "        #total = total + i\n",
    "        \n",
    "    #print(total)    \n",
    "        "
   ]
  },
  {
   "cell_type": "markdown",
   "id": "2d91466d",
   "metadata": {},
   "source": [
    "## Data Structures in Python\n",
    "python has data structures to store and manipulate data. these data structures are native to pyton\n",
    "examples include: lists, tuples, Dictionararies, Set.\n",
    "\n",
    "### List:\n",
    "list are mutable(changable) python data structure, in other programming languages they are arrays, list can store any python data type, they are donated by square bracket.\n"
   ]
  },
  {
   "cell_type": "code",
   "execution_count": 7,
   "id": "12c50c95",
   "metadata": {},
   "outputs": [],
   "source": [
    "# this is a list containing fruit\n",
    "fruits = [\"apple\", \"banana\", \"cherry\"]"
   ]
  },
  {
   "cell_type": "code",
   "execution_count": 3,
   "id": "3f33bba3",
   "metadata": {},
   "outputs": [
    {
     "data": {
      "text/plain": [
       "['apple', 'banana', 'cherry']"
      ]
     },
     "execution_count": 3,
     "metadata": {},
     "output_type": "execute_result"
    }
   ],
   "source": [
    "fruits"
   ]
  },
  {
   "cell_type": "code",
   "execution_count": 4,
   "id": "37430e56",
   "metadata": {},
   "outputs": [
    {
     "data": {
      "text/plain": [
       "'apple'"
      ]
     },
     "execution_count": 4,
     "metadata": {},
     "output_type": "execute_result"
    }
   ],
   "source": [
    "fruits[0] # this is first item or element in the list"
   ]
  },
  {
   "cell_type": "code",
   "execution_count": 5,
   "id": "8d58c4a6",
   "metadata": {},
   "outputs": [
    {
     "data": {
      "text/plain": [
       "'cherry'"
      ]
     },
     "execution_count": 5,
     "metadata": {},
     "output_type": "execute_result"
    }
   ],
   "source": [
    "fruits[2] # this ts the third item or element in the list"
   ]
  },
  {
   "cell_type": "code",
   "execution_count": 6,
   "id": "df2a23aa",
   "metadata": {},
   "outputs": [
    {
     "data": {
      "text/plain": [
       "'banana'"
      ]
     },
     "execution_count": 6,
     "metadata": {},
     "output_type": "execute_result"
    }
   ],
   "source": [
    "fruits[1] # this is the secound item or element in the list"
   ]
  },
  {
   "cell_type": "code",
   "execution_count": 9,
   "id": "3cc17a9a",
   "metadata": {},
   "outputs": [
    {
     "data": {
      "text/plain": [
       "'cherry'"
      ]
     },
     "execution_count": 9,
     "metadata": {},
     "output_type": "execute_result"
    }
   ],
   "source": [
    "# slicing, we can slice our list\n",
    "fruit = (fruits[0:2]) # gives the first two items\n",
    "fruits[-1]\n",
    "#print(fruits[0:3]) # gives the first three items on the list\n",
    "#print(fruits[0:]) # start from index 0 and print till end\n",
    "#print(fruits[:]) # print everything on the list"
   ]
  },
  {
   "cell_type": "code",
   "execution_count": 13,
   "id": "3a1f85d7",
   "metadata": {},
   "outputs": [
    {
     "name": "stdout",
     "output_type": "stream",
     "text": [
      "apple\n",
      "banana\n",
      "cherry\n"
     ]
    }
   ],
   "source": [
    "for i in fruits:\n",
    "    print(i)"
   ]
  },
  {
   "cell_type": "code",
   "execution_count": 14,
   "id": "7be5103e",
   "metadata": {},
   "outputs": [],
   "source": [
    "# the command \"append\" is to add to the end of the list\n",
    "fruits .append(\"cucumber\")"
   ]
  },
  {
   "cell_type": "code",
   "execution_count": 15,
   "id": "39c8e970",
   "metadata": {},
   "outputs": [
    {
     "data": {
      "text/plain": [
       "['apple', 'banana', 'cherry', 'cucumber']"
      ]
     },
     "execution_count": 15,
     "metadata": {},
     "output_type": "execute_result"
    }
   ],
   "source": [
    "fruits"
   ]
  },
  {
   "cell_type": "markdown",
   "id": "ef74f538",
   "metadata": {},
   "source": [
    "STRING OPERATORS\n",
    "string operstors are importtant concepts in python"
   ]
  },
  {
   "cell_type": "code",
   "execution_count": 1,
   "id": "d6e0fb3f",
   "metadata": {},
   "outputs": [],
   "source": [
    "student = \"Dimeji Daniels\""
   ]
  },
  {
   "cell_type": "code",
   "execution_count": 2,
   "id": "e2119e84",
   "metadata": {},
   "outputs": [
    {
     "ename": "TypeError",
     "evalue": "'str' object does not support item assignment",
     "output_type": "error",
     "traceback": [
      "\u001b[1;31m---------------------------------------------------------------------------\u001b[0m",
      "\u001b[1;31mTypeError\u001b[0m                                 Traceback (most recent call last)",
      "Cell \u001b[1;32mIn[2], line 2\u001b[0m\n\u001b[0;32m      1\u001b[0m \u001b[38;5;66;03m#strings cannote be changed once deleted\u001b[39;00m\n\u001b[1;32m----> 2\u001b[0m student[\u001b[38;5;241m0\u001b[39m] \u001b[38;5;241m=\u001b[39m \u001b[38;5;124m\"\u001b[39m\u001b[38;5;124md\u001b[39m\u001b[38;5;124m\"\u001b[39m\n",
      "\u001b[1;31mTypeError\u001b[0m: 'str' object does not support item assignment"
     ]
    }
   ],
   "source": [
    "#strings cannote be changed once deleted\n",
    "student[0] = \"d\""
   ]
  },
  {
   "cell_type": "code",
   "execution_count": 8,
   "id": "7758bc79",
   "metadata": {},
   "outputs": [],
   "source": [
    "fruits[0] = \"carrot\""
   ]
  },
  {
   "cell_type": "code",
   "execution_count": 9,
   "id": "f64f2b13",
   "metadata": {},
   "outputs": [
    {
     "data": {
      "text/plain": [
       "['carrot', 'banana', 'cherry']"
      ]
     },
     "execution_count": 9,
     "metadata": {},
     "output_type": "execute_result"
    }
   ],
   "source": [
    "fruits"
   ]
  },
  {
   "cell_type": "code",
   "execution_count": 10,
   "id": "45e97180",
   "metadata": {},
   "outputs": [
    {
     "data": {
      "text/plain": [
       "2"
      ]
     },
     "execution_count": 10,
     "metadata": {},
     "output_type": "execute_result"
    }
   ],
   "source": [
    "# this method counts the occurance of values in the strings\n",
    "student.count (\"D\")"
   ]
  },
  {
   "cell_type": "code",
   "execution_count": 11,
   "id": "d3603d51",
   "metadata": {},
   "outputs": [],
   "source": [
    "# this method replaces any value in the strings with another values\n",
    "student_ = student.replace(\" \", \"_\")"
   ]
  },
  {
   "cell_type": "code",
   "execution_count": 12,
   "id": "a5c6f607",
   "metadata": {},
   "outputs": [
    {
     "data": {
      "text/plain": [
       "'Dimeji_Daniels'"
      ]
     },
     "execution_count": 12,
     "metadata": {},
     "output_type": "execute_result"
    }
   ],
   "source": [
    "student_"
   ]
  },
  {
   "cell_type": "code",
   "execution_count": 13,
   "id": "628f3385",
   "metadata": {},
   "outputs": [
    {
     "data": {
      "text/plain": [
       "'Dimeji Daniels'"
      ]
     },
     "execution_count": 13,
     "metadata": {},
     "output_type": "execute_result"
    }
   ],
   "source": [
    "student"
   ]
  },
  {
   "cell_type": "code",
   "execution_count": 14,
   "id": "6df600e7",
   "metadata": {},
   "outputs": [
    {
     "data": {
      "text/plain": [
       "['Dimeji', 'Daniels']"
      ]
     },
     "execution_count": 14,
     "metadata": {},
     "output_type": "execute_result"
    }
   ],
   "source": [
    "student_.split(\"_\")"
   ]
  },
  {
   "cell_type": "code",
   "execution_count": 15,
   "id": "6923ac30",
   "metadata": {},
   "outputs": [
    {
     "data": {
      "text/plain": [
       "'Dimeji Daniels'"
      ]
     },
     "execution_count": 15,
     "metadata": {},
     "output_type": "execute_result"
    }
   ],
   "source": [
    "student"
   ]
  },
  {
   "cell_type": "code",
   "execution_count": 16,
   "id": "8049ae0c",
   "metadata": {},
   "outputs": [],
   "source": [
    "# this method will split the string into a list\n",
    "student_list = student_.split(\"_\")"
   ]
  },
  {
   "cell_type": "code",
   "execution_count": 17,
   "id": "df3cac23",
   "metadata": {},
   "outputs": [
    {
     "data": {
      "text/plain": [
       "'Dimeji'"
      ]
     },
     "execution_count": 17,
     "metadata": {},
     "output_type": "execute_result"
    }
   ],
   "source": [
    "student_list[0]"
   ]
  },
  {
   "cell_type": "code",
   "execution_count": 18,
   "id": "1a93a5cf",
   "metadata": {},
   "outputs": [],
   "source": [
    "student_list[0] = \"lizzy\""
   ]
  },
  {
   "cell_type": "code",
   "execution_count": 19,
   "id": "fae1503b",
   "metadata": {},
   "outputs": [
    {
     "data": {
      "text/plain": [
       "['lizzy', 'Daniels']"
      ]
     },
     "execution_count": 19,
     "metadata": {},
     "output_type": "execute_result"
    }
   ],
   "source": [
    "student_list"
   ]
  },
  {
   "cell_type": "markdown",
   "id": "9a69fa39",
   "metadata": {},
   "source": [
    "## FUNCTIONS\n",
    "Functions allows us to reuse blocks of codes, it allows for clearer ans concised coding pratice fucntions in python are usuualy starterd with the 'def' keyword"
   ]
  },
  {
   "cell_type": "code",
   "execution_count": 20,
   "id": "2afcbf62",
   "metadata": {},
   "outputs": [],
   "source": [
    "def greet():\n",
    "    print (\"hello good morniging!!, welcome to gomycode\")"
   ]
  },
  {
   "cell_type": "code",
   "execution_count": 21,
   "id": "b644b348",
   "metadata": {},
   "outputs": [
    {
     "name": "stdout",
     "output_type": "stream",
     "text": [
      "hello good morniging!!, welcome to gomycode\n"
     ]
    }
   ],
   "source": [
    "greet()"
   ]
  },
  {
   "cell_type": "code",
   "execution_count": 1,
   "id": "a307feb8",
   "metadata": {},
   "outputs": [
    {
     "data": {
      "text/plain": [
       "4"
      ]
     },
     "execution_count": 1,
     "metadata": {},
     "output_type": "execute_result"
    }
   ],
   "source": [
    "9//2"
   ]
  },
  {
   "cell_type": "code",
   "execution_count": 3,
   "id": "e85972f3",
   "metadata": {},
   "outputs": [
    {
     "name": "stdout",
     "output_type": "stream",
     "text": [
      "False\n"
     ]
    }
   ],
   "source": [
    "print((2>5) == (6>2))"
   ]
  },
  {
   "cell_type": "code",
   "execution_count": 3,
   "id": "90b30bf0",
   "metadata": {},
   "outputs": [],
   "source": [
    "def greet(name):\n",
    "    print(\"hello welcome to Gomycode\", name)"
   ]
  },
  {
   "cell_type": "code",
   "execution_count": 4,
   "id": "32545553",
   "metadata": {},
   "outputs": [
    {
     "name": "stdout",
     "output_type": "stream",
     "text": [
      "hello welcome to Gomycode Olatunde\n"
     ]
    }
   ],
   "source": [
    "greet(\"Olatunde\")"
   ]
  },
  {
   "cell_type": "code",
   "execution_count": 5,
   "id": "9479b6df",
   "metadata": {},
   "outputs": [
    {
     "name": "stdout",
     "output_type": "stream",
     "text": [
      "hello welcome to Gomycode Temitope\n"
     ]
    }
   ],
   "source": [
    "greetings = greet(\"Temitope\")"
   ]
  },
  {
   "cell_type": "code",
   "execution_count": 6,
   "id": "078628c5",
   "metadata": {},
   "outputs": [],
   "source": [
    "  def greet(name):\n",
    "        return(\"Hello welcome to Gomycode\", name) #this retuens the output of the function"
   ]
  },
  {
   "cell_type": "code",
   "execution_count": 7,
   "id": "2399bde2",
   "metadata": {},
   "outputs": [],
   "source": [
    "# Global and local variables\n",
    "x = 10\n",
    "def number():\n",
    "    y = 5 # this value is local to this function\n",
    "    x = 2 # this value is local to this function\n",
    "    return y + x"
   ]
  },
  {
   "cell_type": "code",
   "execution_count": 8,
   "id": "bafc7bc6",
   "metadata": {},
   "outputs": [
    {
     "data": {
      "text/plain": [
       "7"
      ]
     },
     "execution_count": 8,
     "metadata": {},
     "output_type": "execute_result"
    }
   ],
   "source": [
    "number()"
   ]
  },
  {
   "cell_type": "markdown",
   "id": "6223afc0",
   "metadata": {},
   "source": [
    " ### string manipulation\n",
    " strings in python cannot be chnaged when they have been declared"
   ]
  },
  {
   "cell_type": "code",
   "execution_count": 9,
   "id": "6faf552b",
   "metadata": {},
   "outputs": [],
   "source": [
    "name = \"Alice\""
   ]
  },
  {
   "cell_type": "code",
   "execution_count": 10,
   "id": "d0568c7b",
   "metadata": {},
   "outputs": [
    {
     "ename": "TypeError",
     "evalue": "'str' object does not support item assignment",
     "output_type": "error",
     "traceback": [
      "\u001b[1;31m---------------------------------------------------------------------------\u001b[0m",
      "\u001b[1;31mTypeError\u001b[0m                                 Traceback (most recent call last)",
      "Cell \u001b[1;32mIn[10], line 1\u001b[0m\n\u001b[1;32m----> 1\u001b[0m name[\u001b[38;5;241m0\u001b[39m] \u001b[38;5;241m=\u001b[39m \u001b[38;5;124m\"\u001b[39m\u001b[38;5;124ma\u001b[39m\u001b[38;5;124m\"\u001b[39m\n",
      "\u001b[1;31mTypeError\u001b[0m: 'str' object does not support item assignment"
     ]
    }
   ],
   "source": [
    "name[0] = \"a\""
   ]
  },
  {
   "cell_type": "code",
   "execution_count": 11,
   "id": "99c3d0bb",
   "metadata": {},
   "outputs": [
    {
     "data": {
      "text/plain": [
       "'alice'"
      ]
     },
     "execution_count": 11,
     "metadata": {},
     "output_type": "execute_result"
    }
   ],
   "source": [
    "name.lower()"
   ]
  },
  {
   "cell_type": "code",
   "execution_count": 12,
   "id": "7cdfefdb",
   "metadata": {},
   "outputs": [
    {
     "data": {
      "text/plain": [
       "'ALICE'"
      ]
     },
     "execution_count": 12,
     "metadata": {},
     "output_type": "execute_result"
    }
   ],
   "source": [
    "name.upper()"
   ]
  },
  {
   "cell_type": "code",
   "execution_count": 13,
   "id": "4cab9401",
   "metadata": {},
   "outputs": [],
   "source": [
    "word = \"python is fun\""
   ]
  },
  {
   "cell_type": "code",
   "execution_count": 14,
   "id": "5be7be14",
   "metadata": {},
   "outputs": [
    {
     "data": {
      "text/plain": [
       "['python', 'is', 'fun']"
      ]
     },
     "execution_count": 14,
     "metadata": {},
     "output_type": "execute_result"
    }
   ],
   "source": [
    "word.split()"
   ]
  },
  {
   "cell_type": "code",
   "execution_count": 4,
   "id": "dcc2dbf6",
   "metadata": {},
   "outputs": [],
   "source": [
    "text = \"\"\"Hello coursemate, its your birthday today, i hope you get blessed with all your wishes and hope you asked some for me too. happy birthday ma.\n",
    "        \"\"\""
   ]
  },
  {
   "cell_type": "code",
   "execution_count": 5,
   "id": "0bea294d",
   "metadata": {},
   "outputs": [
    {
     "data": {
      "text/plain": [
       "150"
      ]
     },
     "execution_count": 5,
     "metadata": {},
     "output_type": "execute_result"
    }
   ],
   "source": [
    "len(text)"
   ]
  },
  {
   "cell_type": "code",
   "execution_count": 9,
   "id": "8757079c",
   "metadata": {},
   "outputs": [],
   "source": [
    "text_list = text.split()"
   ]
  },
  {
   "cell_type": "code",
   "execution_count": 10,
   "id": "23759043",
   "metadata": {},
   "outputs": [
    {
     "data": {
      "text/plain": [
       "['Hello',\n",
       " 'coursemate,',\n",
       " 'its',\n",
       " 'your',\n",
       " 'birthday',\n",
       " 'today,',\n",
       " 'i',\n",
       " 'hope',\n",
       " 'you',\n",
       " 'get',\n",
       " 'blessed',\n",
       " 'with',\n",
       " 'all',\n",
       " 'your',\n",
       " 'wishes',\n",
       " 'and',\n",
       " 'hope',\n",
       " 'you',\n",
       " 'asked',\n",
       " 'some',\n",
       " 'for',\n",
       " 'me',\n",
       " 'too.',\n",
       " 'happy',\n",
       " 'birthday',\n",
       " 'ma.']"
      ]
     },
     "execution_count": 10,
     "metadata": {},
     "output_type": "execute_result"
    }
   ],
   "source": [
    "text_list"
   ]
  },
  {
   "cell_type": "code",
   "execution_count": 11,
   "id": "abe97d15",
   "metadata": {},
   "outputs": [],
   "source": [
    "text_2 = []\n",
    "for i in text_list:\n",
    "    if len(i) > 3:\n",
    "        text_2.append(i)\n",
    "    "
   ]
  },
  {
   "cell_type": "code",
   "execution_count": 12,
   "id": "7f07b992",
   "metadata": {},
   "outputs": [
    {
     "data": {
      "text/plain": [
       "['Hello',\n",
       " 'coursemate,',\n",
       " 'your',\n",
       " 'birthday',\n",
       " 'today,',\n",
       " 'hope',\n",
       " 'blessed',\n",
       " 'with',\n",
       " 'your',\n",
       " 'wishes',\n",
       " 'hope',\n",
       " 'asked',\n",
       " 'some',\n",
       " 'too.',\n",
       " 'happy',\n",
       " 'birthday']"
      ]
     },
     "execution_count": 12,
     "metadata": {},
     "output_type": "execute_result"
    }
   ],
   "source": [
    "text_2"
   ]
  },
  {
   "cell_type": "code",
   "execution_count": 13,
   "id": "52ba27d1",
   "metadata": {},
   "outputs": [
    {
     "data": {
      "text/plain": [
       "'ma.'"
      ]
     },
     "execution_count": 13,
     "metadata": {},
     "output_type": "execute_result"
    }
   ],
   "source": [
    "test_list [-1]\n"
   ]
  },
  {
   "cell_type": "code",
   "execution_count": 14,
   "id": "6c69001c",
   "metadata": {},
   "outputs": [
    {
     "data": {
      "text/plain": [
       "['ma.',\n",
       " 'birthday',\n",
       " 'happy',\n",
       " 'too.',\n",
       " 'me',\n",
       " 'for',\n",
       " 'some',\n",
       " 'asked',\n",
       " 'you',\n",
       " 'hope',\n",
       " 'and',\n",
       " 'wishes',\n",
       " 'your',\n",
       " 'all',\n",
       " 'with',\n",
       " 'blessed',\n",
       " 'get',\n",
       " 'you',\n",
       " 'hope',\n",
       " 'i',\n",
       " 'today,',\n",
       " 'birthday',\n",
       " 'your',\n",
       " 'its',\n",
       " 'coursemate,',\n",
       " 'Hello']"
      ]
     },
     "execution_count": 14,
     "metadata": {},
     "output_type": "execute_result"
    }
   ],
   "source": [
    "#List slicing with steps [start:stop:step]\n",
    "text_list[::-1] #[start:stop:step]"
   ]
  },
  {
   "cell_type": "code",
   "execution_count": 16,
   "id": "9ace1e64",
   "metadata": {},
   "outputs": [],
   "source": [
    "# write a python program to sum all the items in a list\n",
    "numbers = [2, 4, 6, 7, 8, 9, 10]"
   ]
  },
  {
   "cell_type": "code",
   "execution_count": 17,
   "id": "482ced44",
   "metadata": {},
   "outputs": [
    {
     "name": "stdout",
     "output_type": "stream",
     "text": [
      "46\n"
     ]
    }
   ],
   "source": [
    "# adding all numbers in a list\n",
    "total = 0\n",
    "for i in numbers:\n",
    "    total = total + i\n",
    "print(total)   \n"
   ]
  },
  {
   "cell_type": "markdown",
   "id": "0f28b50d",
   "metadata": {},
   "source": [
    "### Ground rules\n",
    "() brackects are used to call out a method or function\n",
    "[] are used for list and slicing, indexing\n",
    ". the dots is used to access the methods of an object def - used to declare a function\n",
    ": - colon is used to start a block of code and used in slicing\n",
    "= - used for assigning variables\n",
    "{} - used for creating a set and dictionary\n",
    "== used to check equality (maybe the right is equal to the left)\n",
    "for - used for iteration(going over sequence)\n",
    "-# - used for comments\n",
    " \"\"\" \"\"\" - used for multi-line comments \n",
    "\n",
    "### Tuples\n",
    "this pyhton data structure is not changeable(mutable) once declared. they are denoted"
   ]
  },
  {
   "cell_type": "code",
   "execution_count": 18,
   "id": "82020b0f",
   "metadata": {},
   "outputs": [],
   "source": [
    "points =(3,5)"
   ]
  },
  {
   "cell_type": "code",
   "execution_count": 19,
   "id": "fada7514",
   "metadata": {},
   "outputs": [
    {
     "ename": "TypeError",
     "evalue": "'tuple' object does not support item assignment",
     "output_type": "error",
     "traceback": [
      "\u001b[1;31m---------------------------------------------------------------------------\u001b[0m",
      "\u001b[1;31mTypeError\u001b[0m                                 Traceback (most recent call last)",
      "Cell \u001b[1;32mIn[19], line 1\u001b[0m\n\u001b[1;32m----> 1\u001b[0m points[\u001b[38;5;241m0\u001b[39m] \u001b[38;5;241m=\u001b[39m \u001b[38;5;241m4\u001b[39m\n",
      "\u001b[1;31mTypeError\u001b[0m: 'tuple' object does not support item assignment"
     ]
    }
   ],
   "source": [
    "points[0] = 4"
   ]
  },
  {
   "cell_type": "markdown",
   "id": "aeb41294",
   "metadata": {},
   "source": [
    "Dictonaries\n",
    "Dictionaries are python data structure that stores values usisng key-pair values"
   ]
  },
  {
   "cell_type": "code",
   "execution_count": 23,
   "id": "a951e96f",
   "metadata": {},
   "outputs": [],
   "source": [
    "person =  {\"name\": \"alice:\", \"age\":30, \"sex\": \"Female\"}"
   ]
  },
  {
   "cell_type": "code",
   "execution_count": 21,
   "id": "3cfee229",
   "metadata": {},
   "outputs": [
    {
     "data": {
      "text/plain": [
       "{'name': 'alice:', 'age': 30}"
      ]
     },
     "execution_count": 21,
     "metadata": {},
     "output_type": "execute_result"
    }
   ],
   "source": [
    "person"
   ]
  },
  {
   "cell_type": "code",
   "execution_count": 24,
   "id": "ebc4ad96",
   "metadata": {},
   "outputs": [
    {
     "data": {
      "text/plain": [
       "{'name': 'alice:', 'age': 30, 'sex': 'Female'}"
      ]
     },
     "execution_count": 24,
     "metadata": {},
     "output_type": "execute_result"
    }
   ],
   "source": [
    "person"
   ]
  },
  {
   "cell_type": "code",
   "execution_count": 25,
   "id": "702e7903",
   "metadata": {},
   "outputs": [],
   "source": [
    "person [\"sex\"] = \"i prefare not to say\"\n"
   ]
  },
  {
   "cell_type": "code",
   "execution_count": 26,
   "id": "703f5d61",
   "metadata": {},
   "outputs": [
    {
     "data": {
      "text/plain": [
       "{'name': 'alice:', 'age': 30, 'sex': 'i prefare not to say'}"
      ]
     },
     "execution_count": 26,
     "metadata": {},
     "output_type": "execute_result"
    }
   ],
   "source": [
    "person"
   ]
  },
  {
   "cell_type": "code",
   "execution_count": 1,
   "id": "118e6f09",
   "metadata": {},
   "outputs": [
    {
     "name": "stdout",
     "output_type": "stream",
     "text": [
      "welcome to python pizza deliveries\n"
     ]
    }
   ],
   "source": [
    "print (\"welcome to python pizza deliveries\")"
   ]
  },
  {
   "cell_type": "code",
   "execution_count": 7,
   "id": "6ef46eb8",
   "metadata": {},
   "outputs": [
    {
     "name": "stdout",
     "output_type": "stream",
     "text": [
      "what size of pizza do you want?meduim\n"
     ]
    }
   ],
   "source": [
    "\n"
   ]
  },
  {
   "cell_type": "code",
   "execution_count": 5,
   "id": "e7d0c7b0",
   "metadata": {},
   "outputs": [
    {
     "data": {
      "text/plain": [
       "'large'"
      ]
     },
     "execution_count": 5,
     "metadata": {},
     "output_type": "execute_result"
    }
   ],
   "source": [
    "size"
   ]
  },
  {
   "cell_type": "code",
   "execution_count": 8,
   "id": "61f9f5d0",
   "metadata": {},
   "outputs": [
    {
     "data": {
      "text/plain": [
       "'meduim'"
      ]
     },
     "execution_count": 8,
     "metadata": {},
     "output_type": "execute_result"
    }
   ],
   "source": [
    "size"
   ]
  },
  {
   "cell_type": "code",
   "execution_count": 9,
   "id": "55607aa2",
   "metadata": {},
   "outputs": [
    {
     "name": "stdout",
     "output_type": "stream",
     "text": [
      "do you want pepperoni on your pizza Y/N: Y\n"
     ]
    }
   ],
   "source": [
    "add_pepperoni = input(\"do you want pepperoni on your pizza Y/N: \")"
   ]
  },
  {
   "cell_type": "code",
   "execution_count": 10,
   "id": "0b6a3de8",
   "metadata": {},
   "outputs": [
    {
     "name": "stdout",
     "output_type": "stream",
     "text": [
      "do ypu want extra cheese Y/N: Y\n"
     ]
    }
   ],
   "source": [
    "extra_cheese = input(\"do ypu want extra cheese Y/N: \")"
   ]
  },
  {
   "cell_type": "code",
   "execution_count": 20,
   "id": "9fb85d6e",
   "metadata": {},
   "outputs": [
    {
     "name": "stdout",
     "output_type": "stream",
     "text": [
      "what pizza size do you want? choose 'L' for large, 'M' for medium, 'S' for small L\n",
      " Total balance is $25\n"
     ]
    }
   ],
   "source": [
    "small_pizza = 15\n",
    "meduim_pizza = 20\n",
    "large_pizza = 25\n",
    "pepperoni_small_size = 2\n",
    "pepperoni_medium_size = 3\n",
    "cheese = 1\n",
    "\n",
    "size = input(\"what pizza size do you want? choose 'L' for large, 'M' for medium, 'S' for small \").lower()\n",
    "if size == 'l':\n",
    "    print(f\" Total balance is ${large_pizza}\")\n",
    "elif size == 'm':\n",
    "    print(f\" Total balance is ${meduim_pizza}\")\n",
    "elif size == \"s\":\n",
    "    print(f\" Total balance is ${small_pizza}\")\n",
    "elif size =='l' & add_pepperoni =='y':\n",
    "    print(f\"your balance is: {large_pizza + pepperoni_medium_large}\")\n"
   ]
  },
  {
   "cell_type": "code",
   "execution_count": 16,
   "id": "9f042684",
   "metadata": {},
   "outputs": [
    {
     "name": "stdout",
     "output_type": "stream",
     "text": [
      "Collecting easygui\n",
      "  Obtaining dependency information for easygui from https://files.pythonhosted.org/packages/8e/a7/b276ff776533b423710a285c8168b52551cb2ab0855443131fdc7fd8c16f/easygui-0.98.3-py2.py3-none-any.whl.metadata\n",
      "  Downloading easygui-0.98.3-py2.py3-none-any.whl.metadata (8.4 kB)\n",
      "Downloading easygui-0.98.3-py2.py3-none-any.whl (92 kB)\n",
      "   ---------------------------------------- 0.0/92.7 kB ? eta -:--:--\n",
      "   ---------------------------------------- 0.0/92.7 kB ? eta -:--:--\n",
      "   ---- ----------------------------------- 10.2/92.7 kB ? eta -:--:--\n",
      "   ---- ----------------------------------- 10.2/92.7 kB ? eta -:--:--\n",
      "   ------------- -------------------------- 30.7/92.7 kB 163.8 kB/s eta 0:00:01\n",
      "   ------------- -------------------------- 30.7/92.7 kB 163.8 kB/s eta 0:00:01\n",
      "   ------------- -------------------------- 30.7/92.7 kB 163.8 kB/s eta 0:00:01\n",
      "   -------------------------- ------------- 61.4/92.7 kB 192.5 kB/s eta 0:00:01\n",
      "   -------------------------- ------------- 61.4/92.7 kB 192.5 kB/s eta 0:00:01\n",
      "   -------------------------- ------------- 61.4/92.7 kB 192.5 kB/s eta 0:00:01\n",
      "   -------------------------- ------------- 61.4/92.7 kB 192.5 kB/s eta 0:00:01\n",
      "   -------------------------- ------------- 61.4/92.7 kB 192.5 kB/s eta 0:00:01\n",
      "   -------------------------- ------------- 61.4/92.7 kB 192.5 kB/s eta 0:00:01\n",
      "   -------------------------- ------------- 61.4/92.7 kB 192.5 kB/s eta 0:00:01\n",
      "   -------------------------- ------------- 61.4/92.7 kB 192.5 kB/s eta 0:00:01\n",
      "   ---------------------------------------- 92.7/92.7 kB 125.4 kB/s eta 0:00:00\n",
      "Installing collected packages: easygui\n",
      "Successfully installed easygui-0.98.3\n",
      "Note: you may need to restart the kernel to use updated packages.\n"
     ]
    }
   ],
   "source": [
    "pip install easygui"
   ]
  },
  {
   "cell_type": "code",
   "execution_count": 21,
   "id": "a8f8a82e",
   "metadata": {},
   "outputs": [
    {
     "ename": "SyntaxError",
     "evalue": "unterminated string literal (detected at line 2) (1613288988.py, line 2)",
     "output_type": "error",
     "traceback": [
      "\u001b[1;36m  Cell \u001b[1;32mIn[21], line 2\u001b[1;36m\u001b[0m\n\u001b[1;33m    add_pepperoni = input(do you want pepperoni on your pizza Y/N: \"). lower()\u001b[0m\n\u001b[1;37m                                                                   ^\u001b[0m\n\u001b[1;31mSyntaxError\u001b[0m\u001b[1;31m:\u001b[0m unterminated string literal (detected at line 2)\n"
     ]
    }
   ],
   "source": [
    "size = input(\"what pizza size do you want? choose 'L' for large, 'M' for medium, 'S' for small \").lower()\n",
    "add_pepperoni = input(do you want pepperoni on your pizza Y/N: \"). lower()\n",
    "if size == 'l' and add_pepproni :\n",
    "    print(f\" total balance is = ${Large_pizza + pepperoni_medium_large}\")\n",
    "elif size == 'i':\n",
    "    print(f\" your balance is ${Large_pizza}\")                  \n",
    "                      \n",
    "                      \n",
    "                      \n",
    "    print(f\" Total balance is ${large_pizza}\")\n",
    "elif size == 'm':\n",
    "    print(f\" Total balance is ${meduim_pizza}\")\n",
    "elif size == \"s\":\n",
    "    print(f\" Total balance is ${small_pizza}\")\n",
    "elif size =='l' & add_pepperoni =='y':\n",
    "    print(f\"your balance is: {large_pizza + pepperoni_medium_large}\")\n"
   ]
  },
  {
   "cell_type": "code",
   "execution_count": 1,
   "id": "c34d5c93",
   "metadata": {},
   "outputs": [
    {
     "name": "stdout",
     "output_type": "stream",
     "text": [
      "What size pizza do you want? Small, Medium, or Large: Large\n"
     ]
    }
   ],
   "source": [
    "# Prompt the user for the size of the pizza\n",
    "size = input(\"What size pizza do you want? Small, Medium, or Large: \")"
   ]
  },
  {
   "cell_type": "code",
   "execution_count": 2,
   "id": "d8109833",
   "metadata": {},
   "outputs": [
    {
     "name": "stdout",
     "output_type": "stream",
     "text": [
      "Do you want to add pepperoni? 'yes' or 'no': no\n"
     ]
    }
   ],
   "source": [
    "# Prompt the user if they want pepperoni on their pizza\n",
    "add_pepperoni = input(\"Do you want to add pepperoni? 'yes' or 'no': \")"
   ]
  },
  {
   "cell_type": "code",
   "execution_count": 3,
   "id": "35197915",
   "metadata": {},
   "outputs": [
    {
     "name": "stdout",
     "output_type": "stream",
     "text": [
      "Do you want extra cheese? 'yes' or 'no': no\n"
     ]
    }
   ],
   "source": [
    "# Prompt the user if they want extra cheese\n",
    "extra_cheese = input(\"Do you want extra cheese? 'yes' or 'no': \")"
   ]
  },
  {
   "cell_type": "code",
   "execution_count": 4,
   "id": "b5a4fe61",
   "metadata": {},
   "outputs": [],
   "source": [
    "# Calculate the final bill based on the user's inputs\n",
    "bill = 0"
   ]
  },
  {
   "cell_type": "code",
   "execution_count": 5,
   "id": "330280b3",
   "metadata": {},
   "outputs": [],
   "source": [
    "# Add the base cost of the pizza based on size\n",
    "if size.lower() == \"small\":\n",
    "    bill += 15\n",
    "elif size.lower() == \"medium\":\n",
    "    bill += 20\n",
    "elif size.lower() == \"large\":\n",
    "    bill += 25\n",
    "else:\n",
    "    print(\"Invalid pizza size entered. Please choose Small, Medium, or Large.\")"
   ]
  },
  {
   "cell_type": "code",
   "execution_count": 6,
   "id": "e3874407",
   "metadata": {},
   "outputs": [],
   "source": [
    "# Add the cost of pepperoni if the user wants it\n",
    "if add_pepperoni.lower() == \"yes\":\n",
    "    if size.lower() == \"small\":\n",
    "        bill += 2\n",
    "    else:\n",
    "        bill += 3"
   ]
  },
  {
   "cell_type": "code",
   "execution_count": 7,
   "id": "acaa4f41",
   "metadata": {},
   "outputs": [],
   "source": [
    "# Add the cost of extra cheese if the user wants it\n",
    "if extra_cheese.lower() == \"yes\":\n",
    "    bill += 1"
   ]
  },
  {
   "cell_type": "code",
   "execution_count": 8,
   "id": "b6ecdb4e",
   "metadata": {},
   "outputs": [
    {
     "name": "stdout",
     "output_type": "stream",
     "text": [
      "Your final bill is: $25\n"
     ]
    }
   ],
   "source": [
    "# Display the final bill\n",
    "print(f\"Your final bill is: ${bill}\")"
   ]
  },
  {
   "cell_type": "markdown",
   "id": "a0bec1f1",
   "metadata": {},
   "source": [
    "#### Sets\n",
    "sets are unorderd collections of unique elements. they are commonly used to peeferom mathematical set operations like union, intersection, and diffrence. set uses the curly braces."
   ]
  },
  {
   "cell_type": "code",
   "execution_count": 5,
   "id": "31f24515",
   "metadata": {},
   "outputs": [],
   "source": [
    "my_set = {1, 1, 1, 2, 2, 3, 3, 4, 5}    "
   ]
  },
  {
   "cell_type": "code",
   "execution_count": 6,
   "id": "1218ab88",
   "metadata": {},
   "outputs": [
    {
     "data": {
      "text/plain": [
       "{1, 2, 3, 4, 5}"
      ]
     },
     "execution_count": 6,
     "metadata": {},
     "output_type": "execute_result"
    }
   ],
   "source": [
    "my_set"
   ]
  },
  {
   "cell_type": "code",
   "execution_count": 8,
   "id": "21c4d883",
   "metadata": {},
   "outputs": [
    {
     "data": {
      "text/plain": [
       "{'Borokini', 'Olatunde'}"
      ]
     },
     "execution_count": 8,
     "metadata": {},
     "output_type": "execute_result"
    }
   ],
   "source": [
    "## Marking a set out of list\n",
    "set([\"Olatunde\", \"Borokini\", \"Olatunde\"])"
   ]
  },
  {
   "cell_type": "code",
   "execution_count": null,
   "id": "bcfab14c",
   "metadata": {},
   "outputs": [],
   "source": []
  }
 ],
 "metadata": {
  "kernelspec": {
   "display_name": "Python 3 (ipykernel)",
   "language": "python",
   "name": "python3"
  },
  "language_info": {
   "codemirror_mode": {
    "name": "ipython",
    "version": 3
   },
   "file_extension": ".py",
   "mimetype": "text/x-python",
   "name": "python",
   "nbconvert_exporter": "python",
   "pygments_lexer": "ipython3",
   "version": "3.11.5"
  }
 },
 "nbformat": 4,
 "nbformat_minor": 5
}
