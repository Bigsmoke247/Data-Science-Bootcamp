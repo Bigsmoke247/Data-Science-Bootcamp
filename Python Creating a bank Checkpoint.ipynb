{
 "cells": [
  {
   "cell_type": "code",
   "execution_count": 1,
   "id": "618a1050",
   "metadata": {},
   "outputs": [
    {
     "name": "stdout",
     "output_type": "stream",
     "text": [
      "Amount 1000 has been deposited. New balance is 1000.0\n",
      "Amount 500 has been withdrawn. New balance is 500.0\n",
      "Account balance is 500.0\n",
      "Amount 500 has been deposited. New balance is 500.0\n",
      "Amount 200 has been withdrawn. New balance is 300.0\n",
      "Account balance for account1 is 300.0\n",
      "Amount 1000 has been deposited. New balance is 1000.0\n",
      "Amount 700 has been withdrawn. New balance is 300.0\n",
      "Account balance for account2 is 300.0\n"
     ]
    }
   ],
   "source": [
    "class Account:\n",
    "    def __init__(self, account_number, account_holder):\n",
    "        self.account_number = account_number\n",
    "        self.account_balance = 0.0\n",
    "        self.account_holder = account_holder\n",
    "\n",
    "    def deposit(self, amount):\n",
    "        if amount > 0:\n",
    "            self.account_balance += amount\n",
    "            print(f\"Amount {amount} has been deposited. New balance is {self.account_balance}\")\n",
    "        else:\n",
    "            print(\"Deposit amount must be greater than 0.\")\n",
    "\n",
    "    def withdraw(self, amount):\n",
    "        if amount > 0 and self.account_balance >= amount:\n",
    "            self.account_balance -= amount\n",
    "            print(f\"Amount {amount} has been withdrawn. New balance is {self.account_balance}\")\n",
    "        else:\n",
    "            print(\"Withdrawal amount must be greater than 0 and less than or equal to account balance.\")\n",
    "\n",
    "    def check_balance(self):\n",
    "        return self.account_balance\n",
    "\n",
    "\n",
    "# Create an instance of the Account class\n",
    "my_account = Account(\"123456789\", \"John Doe\")\n",
    "\n",
    "# Deposit and withdraw money from the account\n",
    "my_account.deposit(1000)\n",
    "my_account.withdraw(500)\n",
    "\n",
    "# Check the account balance\n",
    "print(f\"Account balance is {my_account.check_balance()}\")\n",
    "\n",
    "# Test the program by creating multiple instances of the class and performing different transactions on them\n",
    "account1 = Account(\"111111111\", \"Alice\")\n",
    "account1.deposit(500)\n",
    "account1.withdraw(200)\n",
    "print(f\"Account balance for account1 is {account1.check_balance()}\")\n",
    "\n",
    "account2 = Account(\"222222222\", \"Bob\")\n",
    "account2.deposit(1000)\n",
    "account2.withdraw(700)\n",
    "print(f\"Account balance for account2 is {account2.check_balance()}\")"
   ]
  },
  {
   "cell_type": "code",
   "execution_count": null,
   "id": "a49dc264",
   "metadata": {},
   "outputs": [],
   "source": []
  }
 ],
 "metadata": {
  "kernelspec": {
   "display_name": "Python 3 (ipykernel)",
   "language": "python",
   "name": "python3"
  },
  "language_info": {
   "codemirror_mode": {
    "name": "ipython",
    "version": 3
   },
   "file_extension": ".py",
   "mimetype": "text/x-python",
   "name": "python",
   "nbconvert_exporter": "python",
   "pygments_lexer": "ipython3",
   "version": "3.11.5"
  }
 },
 "nbformat": 4,
 "nbformat_minor": 5
}
