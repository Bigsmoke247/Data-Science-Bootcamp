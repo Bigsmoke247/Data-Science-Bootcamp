{
 "cells": [
  {
   "cell_type": "code",
   "execution_count": 1,
   "id": "2659c5df",
   "metadata": {},
   "outputs": [
    {
     "name": "stdout",
     "output_type": "stream",
     "text": [
      "What size pizza do you want? Small, Medium, or Large: large\n"
     ]
    }
   ],
   "source": [
    "# Prompt the user for the size of the pizza\n",
    "size = input(\"What size pizza do you want? Small, Medium, or Large: \")\n"
   ]
  },
  {
   "cell_type": "code",
   "execution_count": 3,
   "id": "8cf11349",
   "metadata": {},
   "outputs": [
    {
     "name": "stdout",
     "output_type": "stream",
     "text": [
      "Do you want to add pepperoni? 'yes' or 'no': no\n"
     ]
    }
   ],
   "source": [
    "# Prompt the user if they want pepperoni on their pizza\n",
    "add_pepperoni = input(\"Do you want to add pepperoni? 'yes' or 'no': \")"
   ]
  },
  {
   "cell_type": "code",
   "execution_count": 4,
   "id": "42fbe28b",
   "metadata": {},
   "outputs": [
    {
     "name": "stdout",
     "output_type": "stream",
     "text": [
      "Do you want extra cheese? 'yes' or 'no': no\n"
     ]
    }
   ],
   "source": [
    "# Prompt the user if they want extra cheese\n",
    "extra_cheese = input(\"Do you want extra cheese? 'yes' or 'no': \")"
   ]
  },
  {
   "cell_type": "code",
   "execution_count": 5,
   "id": "ed69d1ca",
   "metadata": {},
   "outputs": [],
   "source": [
    "# Calculate the final bill based on the user's inputs\n",
    "bill = 0"
   ]
  },
  {
   "cell_type": "code",
   "execution_count": 7,
   "id": "1b7b0d76",
   "metadata": {},
   "outputs": [],
   "source": [
    "# Add the base cost of the pizza based on size\n",
    "if size.lower() == \"small\":\n",
    "    bill += 15\n",
    "elif size.lower() == \"medium\":\n",
    "    bill += 20\n",
    "elif size.lower() == \"large\":\n",
    "    bill += 25\n",
    "else:\n",
    "    print(\"Invalid pizza size entered. Please choose Small, Medium, or Large.\")"
   ]
  },
  {
   "cell_type": "code",
   "execution_count": null,
   "id": "56f7e644",
   "metadata": {},
   "outputs": [],
   "source": [
    "# Add the cost of pepperoni if the user wants it\n",
    "if add_pepperoni.lower() == \"yes\":\n",
    "    if size.lower() == \"small\":\n",
    "        bill += 2\n",
    "    else:\n",
    "        bill += 3"
   ]
  },
  {
   "cell_type": "code",
   "execution_count": 8,
   "id": "383317ce",
   "metadata": {},
   "outputs": [],
   "source": [
    "# Add the cost of extra cheese if the user wants it\n",
    "if extra_cheese.lower() == \"yes\":\n",
    "    bill += 1"
   ]
  },
  {
   "cell_type": "code",
   "execution_count": 9,
   "id": "cd8f8ffc",
   "metadata": {},
   "outputs": [
    {
     "name": "stdout",
     "output_type": "stream",
     "text": [
      "Your final bill is: $50\n"
     ]
    }
   ],
   "source": [
    "# Display the final bill\n",
    "print(f\"Your final bill is: ${bill}\")"
   ]
  },
  {
   "cell_type": "code",
   "execution_count": null,
   "id": "cfb92c9c",
   "metadata": {},
   "outputs": [],
   "source": []
  },
  {
   "cell_type": "code",
   "execution_count": null,
   "id": "5209c933",
   "metadata": {},
   "outputs": [],
   "source": []
  },
  {
   "cell_type": "code",
   "execution_count": null,
   "id": "f60d9d9d",
   "metadata": {},
   "outputs": [],
   "source": []
  },
  {
   "cell_type": "code",
   "execution_count": null,
   "id": "98030922",
   "metadata": {},
   "outputs": [],
   "source": []
  },
  {
   "cell_type": "code",
   "execution_count": null,
   "id": "08587032",
   "metadata": {},
   "outputs": [],
   "source": []
  }
 ],
 "metadata": {
  "kernelspec": {
   "display_name": "Python 3 (ipykernel)",
   "language": "python",
   "name": "python3"
  },
  "language_info": {
   "codemirror_mode": {
    "name": "ipython",
    "version": 3
   },
   "file_extension": ".py",
   "mimetype": "text/x-python",
   "name": "python",
   "nbconvert_exporter": "python",
   "pygments_lexer": "ipython3",
   "version": "3.11.5"
  }
 },
 "nbformat": 4,
 "nbformat_minor": 5
}
