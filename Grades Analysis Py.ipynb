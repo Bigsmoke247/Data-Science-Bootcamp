{
 "cells": [
  {
   "cell_type": "code",
   "execution_count": 3,
   "id": "30fc92de",
   "metadata": {},
   "outputs": [],
   "source": [
    "import numpy as np\n",
    "grades = np.array([85, 90, 88, 92, 95, 80, 75, 98, 89, 83])"
   ]
  },
  {
   "cell_type": "code",
   "execution_count": 4,
   "id": "fcc24485",
   "metadata": {},
   "outputs": [
    {
     "data": {
      "text/plain": [
       "array([85, 90, 88, 92, 95, 80, 75, 98, 89, 83])"
      ]
     },
     "execution_count": 4,
     "metadata": {},
     "output_type": "execute_result"
    }
   ],
   "source": [
    "grades"
   ]
  },
  {
   "cell_type": "code",
   "execution_count": 7,
   "id": "194167fe",
   "metadata": {},
   "outputs": [
    {
     "data": {
      "text/plain": [
       "87.5"
      ]
     },
     "execution_count": 7,
     "metadata": {},
     "output_type": "execute_result"
    }
   ],
   "source": [
    "grades.mean() # Calculating the mean"
   ]
  },
  {
   "cell_type": "code",
   "execution_count": 9,
   "id": "d4b8896b",
   "metadata": {},
   "outputs": [
    {
     "data": {
      "text/plain": [
       "87.5"
      ]
     },
     "execution_count": 9,
     "metadata": {},
     "output_type": "execute_result"
    }
   ],
   "source": [
    "grades.sum()/len(grades) # calculating the standard deviation"
   ]
  },
  {
   "cell_type": "code",
   "execution_count": 10,
   "id": "8d0171d4",
   "metadata": {},
   "outputs": [
    {
     "data": {
      "text/plain": [
       "88.5"
      ]
     },
     "execution_count": 10,
     "metadata": {},
     "output_type": "execute_result"
    }
   ],
   "source": [
    "np.median(grades) # Calculating the median"
   ]
  },
  {
   "cell_type": "code",
   "execution_count": 11,
   "id": "07191af8",
   "metadata": {},
   "outputs": [
    {
     "data": {
      "text/plain": [
       "75"
      ]
     },
     "execution_count": 11,
     "metadata": {},
     "output_type": "execute_result"
    }
   ],
   "source": [
    "grades.min() # Calculating the minimum grade"
   ]
  },
  {
   "cell_type": "code",
   "execution_count": 12,
   "id": "63c2aba8",
   "metadata": {},
   "outputs": [
    {
     "data": {
      "text/plain": [
       "98"
      ]
     },
     "execution_count": 12,
     "metadata": {},
     "output_type": "execute_result"
    }
   ],
   "source": [
    "grades.max() # Calculating the maximum grade"
   ]
  },
  {
   "cell_type": "code",
   "execution_count": 13,
   "id": "d825790f",
   "metadata": {},
   "outputs": [
    {
     "data": {
      "text/plain": [
       "array([75, 80, 83, 85, 88, 89, 90, 92, 95, 98])"
      ]
     },
     "execution_count": 13,
     "metadata": {},
     "output_type": "execute_result"
    }
   ],
   "source": [
    "np.sort(grades) # Sorting in Ascending other"
   ]
  },
  {
   "cell_type": "code",
   "execution_count": 25,
   "id": "ccf51263",
   "metadata": {},
   "outputs": [
    {
     "data": {
      "text/plain": [
       "array([98, 95, 92, 90, 89, 88, 85, 83, 80, 75])"
      ]
     },
     "execution_count": 25,
     "metadata": {},
     "output_type": "execute_result"
    }
   ],
   "source": [
    "np.sort(grades)[:: -1] # Sorting in decending other"
   ]
  },
  {
   "cell_type": "code",
   "execution_count": 26,
   "id": "a161de57",
   "metadata": {},
   "outputs": [
    {
     "data": {
      "text/plain": [
       "7"
      ]
     },
     "execution_count": 26,
     "metadata": {},
     "output_type": "execute_result"
    }
   ],
   "source": [
    "np.argmax(grades) # The index of the highest grade in the array"
   ]
  },
  {
   "cell_type": "code",
   "execution_count": 30,
   "id": "d974c67c",
   "metadata": {},
   "outputs": [
    {
     "data": {
      "text/plain": [
       "array([92, 95, 98])"
      ]
     },
     "execution_count": 30,
     "metadata": {},
     "output_type": "execute_result"
    }
   ],
   "source": [
    "grades[grades > 90] # count the number of students who scored above 90"
   ]
  },
  {
   "cell_type": "code",
   "execution_count": 31,
   "id": "f6a82710",
   "metadata": {},
   "outputs": [
    {
     "data": {
      "text/plain": [
       "30.0"
      ]
     },
     "execution_count": 31,
     "metadata": {},
     "output_type": "execute_result"
    }
   ],
   "source": [
    "np.mean(grades > 90) * 100 # calculate the percentage of students who scored above 90"
   ]
  },
  {
   "cell_type": "code",
   "execution_count": 32,
   "id": "c7a27aa8",
   "metadata": {},
   "outputs": [
    {
     "data": {
      "text/plain": [
       "0.0"
      ]
     },
     "execution_count": 32,
     "metadata": {},
     "output_type": "execute_result"
    }
   ],
   "source": [
    "np.mean(grades < 75) * 75 # calculate the percentage of students who scored below 75"
   ]
  },
  {
   "cell_type": "code",
   "execution_count": 37,
   "id": "64b5eda2",
   "metadata": {},
   "outputs": [],
   "source": [
    "high_performance=grades[grades > 90] #  extract all the grades above 90 and put them in a new array called \"high_performers\""
   ]
  },
  {
   "cell_type": "code",
   "execution_count": 38,
   "id": "1449568c",
   "metadata": {},
   "outputs": [
    {
     "data": {
      "text/plain": [
       "array([92, 95, 98])"
      ]
     },
     "execution_count": 38,
     "metadata": {},
     "output_type": "execute_result"
    }
   ],
   "source": [
    "high_performance"
   ]
  },
  {
   "cell_type": "code",
   "execution_count": 39,
   "id": "8cf82dd8",
   "metadata": {},
   "outputs": [],
   "source": [
    "passing_grades=grades[grades > 75] # Create a new array called \"passing_grades\" that contains all the grades above 75."
   ]
  },
  {
   "cell_type": "code",
   "execution_count": 40,
   "id": "dcb0786e",
   "metadata": {},
   "outputs": [
    {
     "data": {
      "text/plain": [
       "array([85, 90, 88, 92, 95, 80, 98, 89, 83])"
      ]
     },
     "execution_count": 40,
     "metadata": {},
     "output_type": "execute_result"
    }
   ],
   "source": [
    "passing_grades"
   ]
  },
  {
   "cell_type": "code",
   "execution_count": 41,
   "id": "a76fb4c5",
   "metadata": {},
   "outputs": [],
   "source": [
    "import numpy as np\n",
    "passing_grades =np.array([80, 83, 85, 88, 89, 90, 92, 95, 98])"
   ]
  },
  {
   "cell_type": "code",
   "execution_count": 42,
   "id": "cfe71127",
   "metadata": {},
   "outputs": [
    {
     "data": {
      "text/plain": [
       "array([80, 83, 85, 88, 89, 90, 92, 95, 98])"
      ]
     },
     "execution_count": 42,
     "metadata": {},
     "output_type": "execute_result"
    }
   ],
   "source": [
    "passing_grades"
   ]
  },
  {
   "cell_type": "code",
   "execution_count": null,
   "id": "5e691a94",
   "metadata": {},
   "outputs": [],
   "source": []
  }
 ],
 "metadata": {
  "kernelspec": {
   "display_name": "Python 3 (ipykernel)",
   "language": "python",
   "name": "python3"
  },
  "language_info": {
   "codemirror_mode": {
    "name": "ipython",
    "version": 3
   },
   "file_extension": ".py",
   "mimetype": "text/x-python",
   "name": "python",
   "nbconvert_exporter": "python",
   "pygments_lexer": "ipython3",
   "version": "3.11.5"
  }
 },
 "nbformat": 4,
 "nbformat_minor": 5
}
